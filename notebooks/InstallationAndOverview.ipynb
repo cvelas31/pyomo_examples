{
 "cells": [
  {
   "cell_type": "markdown",
   "metadata": {
    "toc": true
   },
   "source": [
    "<h1>Table of Contents<span class=\"tocSkip\"></span></h1>\n",
    "<div class=\"toc\"><ul class=\"toc-item\"><li><span><a href=\"#Installation\" data-toc-modified-id=\"Installation-1\"><span class=\"toc-item-num\">1&nbsp;&nbsp;</span>Installation</a></span><ul class=\"toc-item\"><li><span><a href=\"#Pip-install\" data-toc-modified-id=\"Pip-install-1.1\"><span class=\"toc-item-num\">1.1&nbsp;&nbsp;</span>Pip install</a></span></li><li><span><a href=\"#Conda-install\" data-toc-modified-id=\"Conda-install-1.2\"><span class=\"toc-item-num\">1.2&nbsp;&nbsp;</span>Conda install</a></span></li></ul></li><li><span><a href=\"#Pyomo-Overview\" data-toc-modified-id=\"Pyomo-Overview-2\"><span class=\"toc-item-num\">2&nbsp;&nbsp;</span>Pyomo Overview</a></span><ul class=\"toc-item\"><li><span><a href=\"#Model-Components\" data-toc-modified-id=\"Model-Components-2.1\"><span class=\"toc-item-num\">2.1&nbsp;&nbsp;</span>Model Components</a></span></li><li><span><a href=\"#Basic-steps-for-modeling\" data-toc-modified-id=\"Basic-steps-for-modeling-2.2\"><span class=\"toc-item-num\">2.2&nbsp;&nbsp;</span>Basic steps for modeling</a></span></li><li><span><a href=\"#Concrete-model-vs-Abstract-Model\" data-toc-modified-id=\"Concrete-model-vs-Abstract-Model-2.3\"><span class=\"toc-item-num\">2.3&nbsp;&nbsp;</span>Concrete model vs Abstract Model</a></span></li></ul></li><li><span><a href=\"#Other-advanced-components:\" data-toc-modified-id=\"Other-advanced-components:-3\"><span class=\"toc-item-num\">3&nbsp;&nbsp;</span>Other advanced components:</a></span></li><li><span><a href=\"#Solvers\" data-toc-modified-id=\"Solvers-4\"><span class=\"toc-item-num\">4&nbsp;&nbsp;</span>Solvers</a></span></li><li><span><a href=\"#Much-more\" data-toc-modified-id=\"Much-more-5\"><span class=\"toc-item-num\">5&nbsp;&nbsp;</span>Much more</a></span></li></ul></div>"
   ]
  },
  {
   "cell_type": "markdown",
   "metadata": {},
   "source": [
    "## Installation\n",
    "\n",
    "Pyomo installation is recommended to use conda instead of pip. It uses external solvers that needs to be downloaded."
   ]
  },
  {
   "cell_type": "markdown",
   "metadata": {},
   "source": [
    "### Pip install\n",
    "\n",
    "`pip install pyomo`\n",
    "\n",
    "By default it uses NEOS basic solver\n",
    "\n",
    "If you want a particular solver, download it and make sure you add it to the path.\n",
    "\n",
    "**Solvers**\n",
    "- [COIN Binary distributions solvers](http://www.coin-or.org/download/binary/): (cbc, ipopt, etc)\n",
    "- [NEOS solvers](https://neos-server.org/neos/solvers/) \n",
    "- [AMPL Solvers](https://ampl.com/products/solvers/)\n",
    "- [AMPL Open Source](https://ampl.com/products/solvers/open-source/)\n",
    "    "
   ]
  },
  {
   "cell_type": "markdown",
   "metadata": {},
   "source": [
    "### Conda install\n",
    "\n",
    "`conda install -c conda-forge pyomo`\n",
    "\n",
    "**Open source optimization solvers**\n",
    "\n",
    "- `conda install -c conda-forge ipopt glpk`\n",
    "- `conda install -c conda-forge coincbc`\n",
    "- `conda install -c conda-forge coinbonmin`\n",
    "\n",
    "- **glpk:** Single-threaded simplex solver generally suited to small to medium scale linear-integer programming problems.\n",
    "- **IPOPT:** It is well-suited to solving nonlinear programming problems without integer or binary constraints.\n",
    "- **cbc:** Multi-threaded open-source Coin-or branch and cut mixed-integer linear programming solver, it is a good choice for a general purpose MILP solver for medium to large scale problems.\n",
    "- **bonmin:** It is basic open-source solver for nonlinear mixed-integer programming problems (MINLP). It utilizes CBC and Ipopt for solving relaxed subproblems."
   ]
  },
  {
   "cell_type": "markdown",
   "metadata": {},
   "source": [
    "## Pyomo Overview"
   ]
  },
  {
   "cell_type": "markdown",
   "metadata": {},
   "source": [
    "Pyomo (Python Optimization Modeling Objects) \n",
    "- Supports formulation and analysis of mathematical models for complex optimization. \n",
    "- Supports object oriented design for the definition of optimization models\n",
    "\n",
    "It does it through a `model` object (Abstract or Concrete). This `model` contains a collection of model `components` that define the optimization problem.\n"
   ]
  },
  {
   "cell_type": "markdown",
   "metadata": {},
   "source": [
    "### Model Components\n",
    "\n",
    "- **Var**: Optimization variables/Decision variables\n",
    "- **Objective**: Expression to maximize or minimize\n",
    "- **Constraint**: Contraint expressions\n",
    "- **Set**: Set data that is used to define model instance\n",
    "- **Param**: Parameters data that is used to define model instance"
   ]
  },
  {
   "cell_type": "markdown",
   "metadata": {},
   "source": [
    "### Basic steps for modeling\n",
    "- Create an instance of a model with Pyomo modeling components\n",
    "- Pass the instance to a solver\n",
    "- Report and analyze the results from the solver"
   ]
  },
  {
   "cell_type": "markdown",
   "metadata": {},
   "source": [
    "### Concrete model vs Abstract Model\n",
    "\n",
    "**Abstract Model**\n",
    "![AbstractModel](../docs/AbstractModel.png)\n",
    "\n",
    "**Concrete Model**\n",
    "![ConcreteModel](../docs/ConcreteModel.png)"
   ]
  },
  {
   "cell_type": "markdown",
   "metadata": {},
   "source": [
    "## Other advanced components:\n",
    "- **Expression**: Expression component that can be reused in different parts of a Pyomo Model\n",
    "- **Suffix**: Frequently, there is a need to provide meta-data about a model or a component (e.g., dual information from a constraint).\n",
    "- **Block**: The Block component provides a mechanism to declare models with repeated or nested structure. Ex. Time series of same Block on Multiperiod Optimization.\n",
    "- **Complementarity:** This component is used to define complementarity conditions in a mathematical program with equilibrium constraints (MPEC).\n",
    "- **Disjunct:** A Disjunct component is a container for an indicator variable and a set of constraints that should be active when that indicator variable is True.\n",
    "- **Disjunction**: A Disjunction component contains a set of Disjunct objects connected by a logical “OR” operator.\n",
    "- **SubModel**: A SubModel component is used as part of the bilevel optimization capability within Pyomo. It is used to define a subproblem for the lower-level decisions in a bilevel programming problem\n",
    "- **Piecewise:**: This component supports piecewise modeling of general functions. It supports several different transformations to produce mixed-integer representations for the piecewise functions."
   ]
  },
  {
   "cell_type": "markdown",
   "metadata": {},
   "source": [
    "## Solvers"
   ]
  },
  {
   "cell_type": "code",
   "execution_count": 41,
   "metadata": {
    "ExecuteTime": {
     "end_time": "2021-02-03T23:26:07.247157Z",
     "start_time": "2021-02-03T23:26:04.705620Z"
    },
    "scrolled": false
   },
   "outputs": [
    {
     "name": "stdout",
     "output_type": "stream",
     "text": [
      "\n",
      "Pyomo Solvers and Solver Managers\n",
      "---------------------------------\n",
      "Pyomo uses 'solver managers' to execute 'solvers' that perform\n",
      "optimization and other forms of model analysis.  A solver directly\n",
      "executes an optimizer, typically using an executable found on the\n",
      "user's PATH environment.  Solver managers support a flexible mechanism\n",
      "for asyncronously executing solvers either locally or remotely.  The\n",
      "following solver managers are available in Pyomo:\n",
      "\n",
      "    neos       Asynchronously execute solvers on the NEOS server\n",
      "    serial     Synchronously execute solvers locally\n",
      "\n",
      "If no solver manager is specified, Pyomo uses the serial solver\n",
      "manager to execute solvers locally.  The pyro and phpyro solver\n",
      "managers require the installation and configuration of the pyro\n",
      "software.  The neos solver manager is used to execute solvers on the\n",
      "NEOS optimization server.\n",
      "\n",
      "\n",
      "Serial Solver Interfaces\n",
      "------------------------\n",
      "The serial, pyro and phpyro solver managers support the following\n",
      "solver interfaces:\n",
      "\n",
      "   *asl                        Interface for solvers using the AMPL\n",
      "                               Solver Library\n",
      "    baron                      The BARON MINLP solver\n",
      "   +bilevel_blp_global         Global solver for continuous bilevel\n",
      "                               linear problems\n",
      "   +bilevel_blp_local          Local solver for continuous bilevel\n",
      "                               linear problems\n",
      "   +bilevel_bqp                Global solver for bilevel quadratic\n",
      "                               problems\n",
      "   +bilevel_ld                 Solver for bilevel problems using\n",
      "                               linear duality\n",
      "    cbc                        The CBC LP/MIP solver\n",
      "    conopt                     The CONOPT NLP solver\n",
      "    contrib.gjh                Interface to the AMPL GJH \"solver\"\n",
      "    cplex                      The CPLEX LP/MIP solver\n",
      "    cplex_direct               Direct python interface to CPLEX\n",
      "    cplex_persistent           Persistent python interface to CPLEX\n",
      "    cyipopt                    Cyipopt: direct python bindings to the\n",
      "                               Ipopt NLP solver\n",
      "    gams                       The GAMS modeling language\n",
      "   +gdpbb              19.5.7  Branch and Bound based GDP Solver\n",
      "   +gdpopt             20.2.28 The GDPopt decomposition-based\n",
      "                               Generalized Disjunctive Programming\n",
      "                               (GDP) solver\n",
      "   +glpk               4.65    The GLPK LP/MIP solver\n",
      "    gurobi                     The GUROBI LP/MIP solver\n",
      "    gurobi_direct              Direct python interface to Gurobi\n",
      "    gurobi_persistent          Persistent python interface to Gurobi\n",
      "   +ipopt              3.12.13 The Ipopt NLP solver\n",
      "   +mindtpy            0.1     MindtPy: Mixed-Integer Nonlinear\n",
      "                               Decomposition Toolbox in Pyomo\n",
      "    mosek                      The MOSEK LP/QP/SOCP/MIP solver\n",
      "    mosek_direct               Direct python interface to MOSEK\n",
      "    mosek_persistent           Persistent python interface to MOSEK.\n",
      "   +mpec_minlp                 MPEC solver transforms to a MINLP\n",
      "   +mpec_nlp                   MPEC solver that optimizes a nonlinear\n",
      "                               transformation\n",
      "   +multistart                 MultiStart solver for NLPs\n",
      "    path                       Nonlinear MCP solver\n",
      "    pico                       The PICO LP/MIP solver\n",
      "   +ps                         Pyomo's simple pattern search optimizer\n",
      "   *py                         Direct python solver interfaces\n",
      "    scip                       The SCIP LP/MIP solver\n",
      "   +trustregion                Trust region filter method for black\n",
      "                               box/glass box optimization\n",
      "    xpress                     The XPRESS LP/MIP solver\n",
      "    xpress_direct              Direct python interface to XPRESS\n",
      "    xpress_persistent          Persistent python interface to Xpress\n",
      "\n",
      "The leading symbol (one of *, -, +) indicates the current solver\n",
      "availability.  A plus (+) indicates the solver is currently available\n",
      "to be run from Pyomo with the serial solver manager, and (if\n",
      "applicable) has a valid license.  A minus (-) indicates the solver\n",
      "executables are available but do not reporthaving a valid license.\n",
      "The solver may still be usable in an unlicensed or \"demo\" mode for\n",
      "limited problem sizes. An asterisk (*) indicates meta-solvers or\n",
      "generic interfaces, which are always available.\n",
      "\n",
      "Pyomo also supports solver interfaces that are wrappers around third-\n",
      "party solver interfaces. These interfaces require a subsolver\n",
      "specification that indicates the solver being executed.  For example,\n",
      "the following indicates that the ipopt solver will be used:\n",
      "\n",
      "   asl:ipopt\n",
      "\n",
      "The asl interface provides a generic wrapper for all solvers that use\n",
      "the AMPL Solver Library.\n",
      "\n",
      "Note that subsolvers can not be enumerated automatically for these\n",
      "interfaces.  However, if a solver is specified that is not found,\n",
      "Pyomo assumes that the asl solver interface is being used.  Thus the\n",
      "following solver name will launch ipopt if the 'ipopt' executable is\n",
      "on the user's path:\n",
      "\n",
      "   ipopt\n",
      "\n",
      "\n",
      "NEOS Solver Interfaces\n",
      "----------------------\n",
      "The neos solver manager supports solver interfaces that can be\n",
      "executed remotely on the NEOS optimization server.  The following\n",
      "solver interfaces are available with your current system\n",
      "configuration:\n",
      "\n",
      "    bonmin       Heuristic MINLP solver\n",
      "    cbc          MILP solver\n",
      "    conopt       Feasible path NLP solver\n",
      "    couenne      Exact MINLP solver\n",
      "    cplex        MILP solver\n",
      "    filmint      Heuristic MINLP solver\n",
      "    filter       SQP NLP solver\n",
      "    ipopt        Interior point NLP solver\n",
      "    knitro       Convex MINLP solver\n",
      "    l-bfgs-b     Bound-constrained NLP solver\n",
      "    lancelot     Augmented Lagrangian NLP solver\n",
      "    lgo          Unexpected NEOS solver\n",
      "    loqo         Interior point NLP solver\n",
      "    minlp        Heuristic MINLP solver\n",
      "    minos        SLC NLP solver\n",
      "    minto        MILP solver\n",
      "    mosek        Interior point NLP solver\n",
      "    ooqp         Convex QP solver\n",
      "    path         Nonlinear MCP solver\n",
      "    raposa       Unexpected NEOS solver\n",
      "    snopt        SQP NLP solver\n",
      "\n"
     ]
    }
   ],
   "source": [
    "!pyomo help -s"
   ]
  },
  {
   "cell_type": "markdown",
   "metadata": {},
   "source": [
    "## Much more\n",
    "- Modeling using Blocks\n",
    "- Nonlinear Programming with Pyomo\n",
    "- Differential Algebraic Equations\n",
    "- Bilevel Programming\n",
    "- Generalized Disjunctive Programming\n",
    "- Stochastic Programming"
   ]
  }
 ],
 "metadata": {
  "kernelspec": {
   "display_name": "Python [conda env:pyomo]",
   "language": "python",
   "name": "conda-env-pyomo-py"
  },
  "language_info": {
   "codemirror_mode": {
    "name": "ipython",
    "version": 3
   },
   "file_extension": ".py",
   "mimetype": "text/x-python",
   "name": "python",
   "nbconvert_exporter": "python",
   "pygments_lexer": "ipython3",
   "version": "3.7.9"
  },
  "toc": {
   "base_numbering": 1,
   "nav_menu": {},
   "number_sections": true,
   "sideBar": true,
   "skip_h1_title": true,
   "title_cell": "Table of Contents",
   "title_sidebar": "Contents",
   "toc_cell": true,
   "toc_position": {},
   "toc_section_display": true,
   "toc_window_display": false
  }
 },
 "nbformat": 4,
 "nbformat_minor": 4
}
