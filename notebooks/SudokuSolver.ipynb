{
 "cells": [
  {
   "cell_type": "markdown",
   "metadata": {
    "toc": true
   },
   "source": [
    "<h1>Table of Contents<span class=\"tocSkip\"></span></h1>\n",
    "<div class=\"toc\"><ul class=\"toc-item\"><li><span><a href=\"#Sudoku-Example\" data-toc-modified-id=\"Sudoku-Example-1\"><span class=\"toc-item-num\">1&nbsp;&nbsp;</span>Sudoku Example</a></span><ul class=\"toc-item\"><li><span><a href=\"#Create-sudoku\" data-toc-modified-id=\"Create-sudoku-1.1\"><span class=\"toc-item-num\">1.1&nbsp;&nbsp;</span>Create sudoku</a></span></li></ul></li></ul></div>"
   ]
  },
  {
   "cell_type": "markdown",
   "metadata": {},
   "source": [
    "## Sudoku Example"
   ]
  },
  {
   "cell_type": "code",
   "execution_count": 1,
   "metadata": {
    "ExecuteTime": {
     "end_time": "2021-06-19T05:39:35.305091Z",
     "start_time": "2021-06-19T05:39:34.397879Z"
    }
   },
   "outputs": [],
   "source": [
    "import pandas as pd\n",
    "import numpy as np\n",
    "from scipy import sparse\n",
    "from typing import List, Tuple\n",
    "import pyomo.environ as pyo"
   ]
  },
  {
   "cell_type": "markdown",
   "metadata": {},
   "source": [
    "### Create sudoku"
   ]
  },
  {
   "cell_type": "code",
   "execution_count": 2,
   "metadata": {
    "ExecuteTime": {
     "end_time": "2021-06-19T05:39:35.322002Z",
     "start_time": "2021-06-19T05:39:35.307971Z"
    }
   },
   "outputs": [],
   "source": [
    "class SudokuDrawer():\n",
    "    # https://stackoverflow.com/questions/45471152/how-to-create-a-sudoku-puzzle-in-python\n",
    "    def __init__(self, base=3):\n",
    "        self.base=base\n",
    "        self.side = base*base\n",
    "        self.line0  = self.expandLine(\"╔═══╤═══╦═══╗\")\n",
    "        self.line1  = self.expandLine(\"║ . │ . ║ . ║\")\n",
    "        self.line2  = self.expandLine(\"╟───┼───╫───╢\")\n",
    "        self.line3  = self.expandLine(\"╠═══╪═══╬═══╣\")\n",
    "        self.line4  = self.expandLine(\"╚═══╧═══╩═══╝\")\n",
    "        self.symbol = \" 1234567890ABCDEFGHIJKLMNOPQRSTUVWXYZ\"        \n",
    "    \n",
    "    def expandLine(self, line):\n",
    "        return line[0]+line[5:9].join([line[1:5]*(self.base-1)]*self.base)+line[9:13]\n",
    "    \n",
    "    def draw(self, board):\n",
    "        nums   = [ [\"\"]+[str(int(n)) for n in row] for row in board ]\n",
    "        print(self.line0)\n",
    "        for r in range(1,self.side+1):\n",
    "            print( \"\".join(n+s for n,s in zip(nums[r-1],self.line1.split(\".\"))) )\n",
    "            print([self.line2,self.line3,self.line4][(r%self.side==0)+(r%self.base==0)])\n",
    "            \n",
    "    def draw_from_model(self, model: pyo.ConcreteModel):\n",
    "        board = np.zeros(shape=(self.base**2, self.base**2))\n",
    "        for key, val in instance.y.items():\n",
    "            if val.value > 0.5:\n",
    "                board[key[0]-1, key[1]-1] = key[2]\n",
    "        self.draw(board)\n",
    "        \n",
    "    def draw_from_sparse(self, sparse):\n",
    "        board = np.zeros(shape=(self.base**2, self.base**2))\n",
    "        for row, col, val in sparse:\n",
    "            board[row-1, col-1] = val\n",
    "        self.draw(board)\n",
    "\n",
    "\n",
    "def generate_subsquare(base):\n",
    "    # Subsquare_region\n",
    "    subsq_to_row_col = {i: [] for i in range(1, 1+base**2)}\n",
    "    for row in range(1,1+base**2):\n",
    "        for col in range(1, 1+base**2):\n",
    "            row0 = ((row-1)//base)*base\n",
    "            col0 = ((col-1)//base)*base\n",
    "            subsq_to_row_col[(row0 + col0//base)+1].append((row,col))\n",
    "    return subsq_to_row_col\n",
    "    \n",
    "\n",
    "def sparse_board(sudoku: List[List]):\n",
    "    sparse_matrix = sparse.csr_matrix(np.matrix(sudoku))\n",
    "    board = []\n",
    "    for (row, col), val in sparse_matrix.todok().items():\n",
    "        board.append((row+1, col+1, val))\n",
    "    return board    \n",
    "\n",
    "subsq_to_row_col = generate_subsquare(base=3)"
   ]
  },
  {
   "cell_type": "markdown",
   "metadata": {},
   "source": [
    "- Each row must only have one occurrence of each number\n",
    "- Each column must only have one occurrence of each number\n",
    "- Each of the nine sub squares must only have one occurrence of each number\n",
    "\n",
    "**Problem Formulation**\n",
    "\n",
    "Define ROWS, COLS and VALUES (Ints from 1 to 9)\n",
    "\n",
    "![Sudoku](../docs/CubeSudoku.png)\n",
    "\n",
    "Define a binary variable as follows:\n",
    "$$y[r, c, v] = 1 \\hspace{1ex} \\text{if v is the value in r, c. 0 otherwise}$$\n",
    "$$\\textbf{Constraints}$$\n",
    "$$\\sum_{c \\in Cols} y[r, c, v] = 1, \\forall r \\in Rows, \\forall v \\in Values\\hspace{1ex} \\hspace{1ex}(1)$$\n",
    "$$\\sum_{r \\in Rows} y[r, c, v] = 1, \\forall c \\in Cols, \\forall v \\in Values\\hspace{1ex} \\hspace{1ex}(2)$$\n",
    "$$\\sum_{r,c \\in SubSquares[i]} y[r, c, v] = 1, \\forall i \\in SubSquares\\hspace{1ex} \\hspace{1ex}(3)$$\n",
    "$$\\sum_{v \\in Values} y[r, c, v] = 1, \\forall r \\in Rows, \\forall c \\in Cols\\hspace{1ex} \\hspace{1ex}(4)$$\n",
    "\n",
    "**Integer Cut**\n",
    "\n",
    "This is done to prevent the same solution to appear again\n",
    "\n",
    "$$ \\text{Define 2 Sets: } S_0 \\text{ and } S_1:$$\n",
    "$$S_0: \\hspace{1ex} \\text{Indices for those variables whose current solution is 0.}$$\n",
    "$$S_1: \\hspace{1ex} \\text{Indices for those variables whose current solution is 1.}$$\n",
    "$$\\sum_{r,c,v \\in S_0} y[r, c, v] + \\sum_{r,c,v \\in S_1}(1 - y[r, c, v]) \\geq 1 \\hspace{1ex}(5)$$"
   ]
  },
  {
   "cell_type": "code",
   "execution_count": 3,
   "metadata": {
    "ExecuteTime": {
     "end_time": "2021-06-19T05:39:37.318208Z",
     "start_time": "2021-06-19T05:39:37.308096Z"
    }
   },
   "outputs": [],
   "source": [
    "model = pyo.AbstractModel()\n",
    "# Starting board as internal variable\n",
    "model.board = pyo.Set()\n",
    "# Create sets for constraints\n",
    "model.rows = pyo.RangeSet(1,9)\n",
    "model.cols = pyo.RangeSet(1,9)\n",
    "model.subsquares = pyo.RangeSet(1,9)\n",
    "model.values_ = pyo.RangeSet(1,9)\n",
    "# Create Y as Binary: row, col, val\n",
    "model.y = pyo.Var(model.rows, model.cols, model.values_, \n",
    "                  within=pyo.Binary)\n",
    "\n",
    "# This is a feasability problem (Objective doesn't matter which)\n",
    "model.obj = pyo.Objective(expr=1.0)\n",
    "\n",
    "# Constraint of row\n",
    "def row_constraint(model, r, v):\n",
    "    return sum(model.y[r,c,v] for c in model.cols) == 1\n",
    "model.row_constraint = pyo.Constraint(\n",
    "    model.rows, model.values_, \n",
    "    rule=row_constraint,\n",
    "    name=\"Constraint 1 - One of a val per row\")\n",
    "# Constraint of Column\n",
    "def col_constraint(model, c, v):\n",
    "    return sum(model.y[r,c,v] for r in model.rows) == 1\n",
    "model.col_constraint = pyo.Constraint(\n",
    "    model.cols, model.values_, \n",
    "    rule=col_constraint,\n",
    "    name=\"Constraint 2 - One of a val per Column\")\n",
    "# Constraint on SubSquare\n",
    "def subsquare_constraint(subsq_to_row_col):\n",
    "    def _sq_constraint(model, s, v):\n",
    "        return sum(model.y[r,c,v] for (r, c) in subsq_to_row_col[s]) == 1\n",
    "    return _sq_constraint\n",
    "model.subsq_constraint = pyo.Constraint(\n",
    "    model.subsquares, model.values_, \n",
    "    rule=subsquare_constraint(subsq_to_row_col),\n",
    "    name=\"Constraint 3 - One of a val per subsquare\")\n",
    "# Constraint of Values\n",
    "def value_constraint(model, r, c):\n",
    "    return sum(model.y[r,c,v] for v in model.values_) == 1\n",
    "model.value_constraint = pyo.Constraint(\n",
    "    model.rows, model.cols, rule=value_constraint, \n",
    "    name=\"Constraint 4 - One val per Cell\")"
   ]
  },
  {
   "cell_type": "code",
   "execution_count": 4,
   "metadata": {
    "ExecuteTime": {
     "end_time": "2021-06-19T05:39:39.426413Z",
     "start_time": "2021-06-19T05:39:39.420498Z"
    }
   },
   "outputs": [],
   "source": [
    "# Fix initial board values\n",
    "def build_model(model):\n",
    "    # Fix variables based on the current board\n",
    "    for (r,c,v) in model.board:\n",
    "        model.y[r,c,v].fix(1)\n",
    "\n",
    "# Remove previously seen solutions\n",
    "def add_integer_cut(model):\n",
    "    if not hasattr(model, \"integer_cuts\"):\n",
    "        model.integer_cuts = pyo.ConstraintList()\n",
    "    # Add the integer cut, corresponding to the current solution in the model\n",
    "    # Note that if it is exactly one of the previous solution it would not satisfy the constraint\n",
    "    # To satisfy the constraint, at least 1 number should be different\n",
    "    cut_expr = 0.0\n",
    "    for r in model.rows:\n",
    "        for c in model.cols:\n",
    "            for v in model.values_:\n",
    "                if not model.y[r,c,v].fixed:\n",
    "                    # Note, it may not be exactly 1 (Precision error)\n",
    "                    if model.y[r,c,v].value >= 0.5:\n",
    "                        cut_expr += (1.0 - model.y[r,c,v])\n",
    "                    else:\n",
    "                        cut_expr += model.y[r,c,v]\n",
    "    model.integer_cuts.add(cut_expr >= 1)"
   ]
  },
  {
   "cell_type": "code",
   "execution_count": 5,
   "metadata": {
    "ExecuteTime": {
     "end_time": "2021-06-19T05:39:43.863068Z",
     "start_time": "2021-06-19T05:39:43.850572Z"
    }
   },
   "outputs": [],
   "source": [
    "visual_boards = [\n",
    "    # Single solution\n",
    "    [[5, 3, 0, 0, 7, 0, 0, 0, 0],\n",
    "     [6, 0, 0, 1, 9, 5, 0, 0, 0],\n",
    "     [0, 9, 8, 0, 0, 0, 0, 6, 0],\n",
    "     [8, 0, 0, 0, 6, 0, 0, 0, 3],\n",
    "     [4, 0, 0, 8, 0, 3, 0, 0, 1],\n",
    "     [7, 0, 0, 0, 2, 0, 0, 0, 6],\n",
    "     [0, 6, 0, 0, 0, 0, 2, 8, 0],\n",
    "     [0, 0, 0, 4, 1, 9, 0, 0, 5],\n",
    "     [0, 0, 0, 0, 8, 0, 0, 7, 9]],\n",
    "    # Single solution\n",
    "    [[0, 7, 5, 0, 0, 0, 0, 0, 0],\n",
    "     [1, 0, 0, 0, 0, 3, 0, 0, 0],\n",
    "     [6, 0, 9, 0, 2, 0, 5, 0, 0],\n",
    "     [8, 0, 0, 0, 5, 0, 0, 4, 0],\n",
    "     [0, 0, 0, 2, 6, 4, 0, 0, 0],\n",
    "     [0, 2, 0, 0, 7, 0, 0, 0, 3],\n",
    "     [0, 0, 3, 0, 9, 0, 4, 0, 6],\n",
    "     [0, 0, 0, 6, 0, 0, 0, 0, 8],\n",
    "     [0, 0, 0, 0, 0, 0, 7, 2, 0]],\n",
    "    # Hard one\n",
    "    [[0, 2, 0, 7, 0, 0, 4, 0, 0],\n",
    "     [0, 1, 5, 0, 6, 0, 0, 0, 9],\n",
    "     [0, 3, 8, 0, 4, 9, 0, 6, 5],\n",
    "     [0, 0, 2, 0, 9, 0, 0, 0, 4],\n",
    "     [5, 0, 0, 0, 0, 0, 0, 0, 1],\n",
    "     [8, 0, 0, 0, 2, 0, 9, 0, 0],\n",
    "     [9, 6, 0, 8, 3, 0, 1, 7, 0],\n",
    "     [2, 0, 0, 0, 1, 0, 5, 9, 0],\n",
    "     [0, 0, 3, 0, 0, 2, 0, 4, 0]],\n",
    "    # Multiple Solutions\n",
    "    [[0, 0, 0, 0, 0, 0, 4, 0, 0],\n",
    "     [0, 1, 5, 0, 6, 0, 0, 0, 9],\n",
    "     [0, 3, 8, 0, 4, 9, 0, 6, 5],\n",
    "     [0, 0, 2, 0, 9, 0, 0, 0, 4],\n",
    "     [5, 0, 0, 0, 0, 0, 0, 0, 1],\n",
    "     [8, 0, 0, 0, 2, 0, 9, 0, 0],\n",
    "     [9, 6, 0, 8, 3, 0, 1, 7, 0],\n",
    "     [2, 0, 0, 0, 1, 0, 5, 9, 0],\n",
    "     [0, 0, 3, 0, 0, 2, 0, 4, 0]],\n",
    "]"
   ]
  },
  {
   "cell_type": "code",
   "execution_count": 6,
   "metadata": {
    "ExecuteTime": {
     "end_time": "2021-06-19T05:39:46.197599Z",
     "start_time": "2021-06-19T05:39:46.195020Z"
    }
   },
   "outputs": [],
   "source": [
    "drawer = SudokuDrawer()"
   ]
  },
  {
   "cell_type": "code",
   "execution_count": 7,
   "metadata": {
    "ExecuteTime": {
     "end_time": "2021-06-19T05:39:47.323394Z",
     "start_time": "2021-06-19T05:39:47.313726Z"
    }
   },
   "outputs": [],
   "source": [
    "data = {\n",
    "    \"sudoku0\": {\n",
    "        \"board\": {None: sparse_board(visual_boards[0])}\n",
    "    },\n",
    "    \"sudoku1\": {\n",
    "        \"board\": {None: sparse_board(visual_boards[1])}\n",
    "    },\n",
    "    \"sudoku2\": {\n",
    "        \"board\": {None: sparse_board(visual_boards[2])}\n",
    "    },\n",
    "    \"sudoku3\": {\n",
    "        \"board\": {None: sparse_board(visual_boards[3])}\n",
    "    }\n",
    "}"
   ]
  },
  {
   "cell_type": "code",
   "execution_count": 9,
   "metadata": {
    "ExecuteTime": {
     "end_time": "2021-06-19T05:40:13.833495Z",
     "start_time": "2021-06-19T05:40:13.813601Z"
    }
   },
   "outputs": [],
   "source": [
    "instance = model.create_instance(namespace=\"sudoku3\", data=data)\n",
    "build_model(instance)"
   ]
  },
  {
   "cell_type": "code",
   "execution_count": 14,
   "metadata": {
    "ExecuteTime": {
     "end_time": "2021-06-19T05:41:08.567340Z",
     "start_time": "2021-06-19T05:41:08.562787Z"
    }
   },
   "outputs": [
    {
     "name": "stdout",
     "output_type": "stream",
     "text": [
      "╔═══╤═══╤═══╦═══╤═══╤═══╦═══╤═══╤═══╗\n",
      "║ 0 │ 0 │ 0 ║ 0 │ 0 │ 0 ║ 4 │ 0 │ 0 ║\n",
      "╟───┼───┼───╫───┼───┼───╫───┼───┼───╢\n",
      "║ 0 │ 1 │ 5 ║ 0 │ 6 │ 0 ║ 0 │ 0 │ 9 ║\n",
      "╟───┼───┼───╫───┼───┼───╫───┼───┼───╢\n",
      "║ 0 │ 3 │ 8 ║ 0 │ 4 │ 9 ║ 0 │ 6 │ 5 ║\n",
      "╠═══╪═══╪═══╬═══╪═══╪═══╬═══╪═══╪═══╣\n",
      "║ 0 │ 0 │ 2 ║ 0 │ 9 │ 0 ║ 0 │ 0 │ 4 ║\n",
      "╟───┼───┼───╫───┼───┼───╫───┼───┼───╢\n",
      "║ 5 │ 0 │ 0 ║ 0 │ 0 │ 0 ║ 0 │ 0 │ 1 ║\n",
      "╟───┼───┼───╫───┼───┼───╫───┼───┼───╢\n",
      "║ 8 │ 0 │ 0 ║ 0 │ 2 │ 0 ║ 9 │ 0 │ 0 ║\n",
      "╠═══╪═══╪═══╬═══╪═══╪═══╬═══╪═══╪═══╣\n",
      "║ 9 │ 6 │ 0 ║ 8 │ 3 │ 0 ║ 1 │ 7 │ 0 ║\n",
      "╟───┼───┼───╫───┼───┼───╫───┼───┼───╢\n",
      "║ 2 │ 0 │ 0 ║ 0 │ 1 │ 0 ║ 5 │ 9 │ 0 ║\n",
      "╟───┼───┼───╫───┼───┼───╫───┼───┼───╢\n",
      "║ 0 │ 0 │ 3 ║ 0 │ 0 │ 2 ║ 0 │ 4 │ 0 ║\n",
      "╚═══╧═══╧═══╩═══╧═══╧═══╩═══╧═══╧═══╝\n"
     ]
    }
   ],
   "source": [
    "drawer.draw_from_sparse(instance.board.keys())"
   ]
  },
  {
   "cell_type": "code",
   "execution_count": 10,
   "metadata": {
    "ExecuteTime": {
     "end_time": "2021-06-19T00:59:39.351737Z",
     "start_time": "2021-06-19T00:59:38.794877Z"
    }
   },
   "outputs": [
    {
     "name": "stdout",
     "output_type": "stream",
     "text": [
      "WARNING: Constant objective detected, replacing with a placeholder to prevent\n",
      "    solver failure.\n",
      "WARNING: Constant objective detected, replacing with a placeholder to prevent\n",
      "    solver failure.\n",
      "WARNING: Constant objective detected, replacing with a placeholder to prevent\n",
      "    solver failure.\n",
      "All board solutions have been found\n",
      "Number of solutions: 2\n"
     ]
    }
   ],
   "source": [
    "solutions = []\n",
    "while True:\n",
    "    with pyo.SolverFactory(\"glpk\") as opt:\n",
    "        results = opt.solve(instance)\n",
    "        if results.solver.termination_condition != pyo.TerminationCondition.optimal:\n",
    "            print(\"All board solutions have been found\")\n",
    "            break\n",
    "    add_integer_cut(instance)\n",
    "    solutions.append(instance.clone())\n",
    "print(f\"Number of solutions: {len(solutions)}\")"
   ]
  },
  {
   "cell_type": "code",
   "execution_count": 11,
   "metadata": {
    "ExecuteTime": {
     "end_time": "2021-06-19T00:59:42.976589Z",
     "start_time": "2021-06-19T00:59:42.969419Z"
    }
   },
   "outputs": [
    {
     "name": "stdout",
     "output_type": "stream",
     "text": [
      "╔═══╤═══╤═══╦═══╤═══╤═══╦═══╤═══╤═══╗\n",
      "║ 6 │ 2 │ 9 ║ 3 │ 5 │ 7 ║ 4 │ 1 │ 8 ║\n",
      "╟───┼───┼───╫───┼───┼───╫───┼───┼───╢\n",
      "║ 4 │ 1 │ 5 ║ 2 │ 6 │ 8 ║ 7 │ 3 │ 9 ║\n",
      "╟───┼───┼───╫───┼───┼───╫───┼───┼───╢\n",
      "║ 7 │ 3 │ 8 ║ 1 │ 4 │ 9 ║ 2 │ 6 │ 5 ║\n",
      "╠═══╪═══╪═══╬═══╪═══╪═══╬═══╪═══╪═══╣\n",
      "║ 3 │ 7 │ 2 ║ 5 │ 9 │ 1 ║ 6 │ 8 │ 4 ║\n",
      "╟───┼───┼───╫───┼───┼───╫───┼───┼───╢\n",
      "║ 5 │ 9 │ 6 ║ 7 │ 8 │ 4 ║ 3 │ 2 │ 1 ║\n",
      "╟───┼───┼───╫───┼───┼───╫───┼───┼───╢\n",
      "║ 8 │ 4 │ 1 ║ 6 │ 2 │ 3 ║ 9 │ 5 │ 7 ║\n",
      "╠═══╪═══╪═══╬═══╪═══╪═══╬═══╪═══╪═══╣\n",
      "║ 9 │ 6 │ 4 ║ 8 │ 3 │ 5 ║ 1 │ 7 │ 2 ║\n",
      "╟───┼───┼───╫───┼───┼───╫───┼───┼───╢\n",
      "║ 2 │ 8 │ 7 ║ 4 │ 1 │ 6 ║ 5 │ 9 │ 3 ║\n",
      "╟───┼───┼───╫───┼───┼───╫───┼───┼───╢\n",
      "║ 1 │ 5 │ 3 ║ 9 │ 7 │ 2 ║ 8 │ 4 │ 6 ║\n",
      "╚═══╧═══╧═══╩═══╧═══╧═══╩═══╧═══╧═══╝\n",
      "╔═══╤═══╤═══╦═══╤═══╤═══╦═══╤═══╤═══╗\n",
      "║ 6 │ 2 │ 9 ║ 7 │ 5 │ 3 ║ 4 │ 1 │ 8 ║\n",
      "╟───┼───┼───╫───┼───┼───╫───┼───┼───╢\n",
      "║ 4 │ 1 │ 5 ║ 2 │ 6 │ 8 ║ 7 │ 3 │ 9 ║\n",
      "╟───┼───┼───╫───┼───┼───╫───┼───┼───╢\n",
      "║ 7 │ 3 │ 8 ║ 1 │ 4 │ 9 ║ 2 │ 6 │ 5 ║\n",
      "╠═══╪═══╪═══╬═══╪═══╪═══╬═══╪═══╪═══╣\n",
      "║ 3 │ 7 │ 2 ║ 5 │ 9 │ 1 ║ 6 │ 8 │ 4 ║\n",
      "╟───┼───┼───╫───┼───┼───╫───┼───┼───╢\n",
      "║ 5 │ 9 │ 6 ║ 4 │ 8 │ 7 ║ 3 │ 2 │ 1 ║\n",
      "╟───┼───┼───╫───┼───┼───╫───┼───┼───╢\n",
      "║ 8 │ 4 │ 1 ║ 3 │ 2 │ 6 ║ 9 │ 5 │ 7 ║\n",
      "╠═══╪═══╪═══╬═══╪═══╪═══╬═══╪═══╪═══╣\n",
      "║ 9 │ 6 │ 4 ║ 8 │ 3 │ 5 ║ 1 │ 7 │ 2 ║\n",
      "╟───┼───┼───╫───┼───┼───╫───┼───┼───╢\n",
      "║ 2 │ 8 │ 7 ║ 6 │ 1 │ 4 ║ 5 │ 9 │ 3 ║\n",
      "╟───┼───┼───╫───┼───┼───╫───┼───┼───╢\n",
      "║ 1 │ 5 │ 3 ║ 9 │ 7 │ 2 ║ 8 │ 4 │ 6 ║\n",
      "╚═══╧═══╧═══╩═══╧═══╧═══╩═══╧═══╧═══╝\n"
     ]
    }
   ],
   "source": [
    "for instance in solutions:\n",
    "    drawer.draw_from_model(instance)"
   ]
  }
 ],
 "metadata": {
  "kernelspec": {
   "display_name": "Python [conda env:pyomo]",
   "language": "python",
   "name": "conda-env-pyomo-py"
  },
  "language_info": {
   "codemirror_mode": {
    "name": "ipython",
    "version": 3
   },
   "file_extension": ".py",
   "mimetype": "text/x-python",
   "name": "python",
   "nbconvert_exporter": "python",
   "pygments_lexer": "ipython3",
   "version": "3.7.9"
  },
  "toc": {
   "base_numbering": 1,
   "nav_menu": {},
   "number_sections": true,
   "sideBar": true,
   "skip_h1_title": true,
   "title_cell": "Table of Contents",
   "title_sidebar": "Contents",
   "toc_cell": true,
   "toc_position": {},
   "toc_section_display": true,
   "toc_window_display": false
  }
 },
 "nbformat": 4,
 "nbformat_minor": 4
}
