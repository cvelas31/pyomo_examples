{
 "cells": [
  {
   "cell_type": "markdown",
   "metadata": {
    "toc": true
   },
   "source": [
    "<h1>Table of Contents<span class=\"tocSkip\"></span></h1>\n",
    "<div class=\"toc\"><ul class=\"toc-item\"><li><span><a href=\"#Infectious-Non-Linear-Example\" data-toc-modified-id=\"Infectious-Non-Linear-Example-1\"><span class=\"toc-item-num\">1&nbsp;&nbsp;</span>Infectious Non Linear Example</a></span></li></ul></div>"
   ]
  },
  {
   "cell_type": "markdown",
   "metadata": {},
   "source": [
    "## Infectious Non Linear Example"
   ]
  },
  {
   "cell_type": "code",
   "execution_count": 1,
   "metadata": {
    "ExecuteTime": {
     "end_time": "2021-06-13T18:07:34.355925Z",
     "start_time": "2021-06-13T18:07:33.175246Z"
    }
   },
   "outputs": [],
   "source": [
    "import pandas as pd\n",
    "import numpy as np\n",
    "from scipy import sparse\n",
    "from typing import List, Tuple\n",
    "import pyomo.environ as pyo"
   ]
  },
  {
   "cell_type": "markdown",
   "metadata": {},
   "source": [
    "Simulate the outbreak of an infectious disease on a 1000. \n",
    "\n",
    "Standard Discrete Time Compartment model to represent the system. individuals separated into 3 compartments\n",
    "\n",
    "$$I: \\text{Infected}$$\n",
    "$$S: \\text{Susceptible}$$\n",
    "$$R: \\text{Recovered}$$\n",
    "$$N: \\text{Population Size}$$\n",
    "\n",
    "It is assumed that all infected people on t are not Susceptible nor Infected in t+1\n",
    "\n",
    "$$I_{i} = \\frac{\\beta{}I_{i-1}^\\alpha{}S_{i-1}}{N}$$\n",
    "$$S_{i} = S_{i-1}-I_i$$\n",
    "\n",
    "Parameters to estimate: $\\alpha{}$, $\\beta{}$\n",
    "\n",
    "Using Least Square to estimate the parameters, the problem statement will be as follows:\n",
    "$$C_i: \\text{Reported cases at time i}$$\n",
    "$$SI: \\text{Serial interval (Time steps)}$$\n",
    "\n",
    "**Problem Formulation**\n",
    "$$\\min\\limits_{\\alpha, \\beta} \\sum_{i \\in SI}(\\varepsilon_i^{I})^2 \\hspace{1ex}(1)$$\n",
    "$$s.t.$$\n",
    "$$I_{i} = \\frac{\\beta{}I_{i-1}^\\alpha{}S_{i-1}}{N}, \\forall i \\in SI \\hspace{1ex}(2)$$\n",
    "$$S_{i} = S_{i-1}-I_i, \\forall i \\in SI \\hspace{1ex}(3)$$\n",
    "$$C_i = I_i +  \\varepsilon_i^{I} \\hspace{1ex}(4)$$\n",
    "$$I_i \\geq 0 \\hspace{1ex}(5)$$\n",
    "$$S_i \\leq N \\hspace{1ex}(6)$$\n",
    "$$0.5 \\leq \\beta{} \\leq 70 \\hspace{1ex}(7)$$\n",
    "$$0.5 \\leq \\alpha{} \\leq 4.5 \\hspace{1ex}(8)$$"
   ]
  },
  {
   "cell_type": "code",
   "execution_count": 50,
   "metadata": {
    "ExecuteTime": {
     "end_time": "2021-02-03T23:27:40.042873Z",
     "start_time": "2021-02-03T23:27:40.029419Z"
    }
   },
   "outputs": [],
   "source": [
    "model = AbstractModel(\"Disease\")\n",
    "\n",
    "model.S_SI = Set(ordered=True) # Time steps\n",
    "\n",
    "model.P_REP_CASES = Param(model.S_SI) # Param reported cases for each time step\n",
    "model.P_POP = Param() # Population\n",
    "\n",
    "model.I = Var(model.S_SI, bounds=(0,model.P_POP), initialize=1) # Infected People on each time step\n",
    "model.S = Var(model.S_SI, bounds=(0,model.P_POP), initialize=1000) # Susceptible People on each time step\n",
    "\n",
    "# Variables\n",
    "model.beta = Var(bounds=(0.05, 70))\n",
    "model.alpha = Var(bounds=(0.5, 4.5)) \n",
    "model.eps_I = Var(model.S_SI, initialize=0.0) # Error at each time step\n",
    "\n",
    "def _objective(model):\n",
    "    return sum((model.eps_I[i])**2 for i in model.S_SI)\n",
    "model.objective = Objective(rule=_objective, sense=minimize)\n",
    "\n",
    "# Dynamics Constraint (2)\n",
    "def _InfDynamics(model, i):\n",
    "    if i != 1:\n",
    "        return model.I[i] == (model.beta * model.S[i-1]*model.I[i-1]**model.alpha)/model.P_POP\n",
    "    return Constraint.Skip\n",
    "model.InfDynamics = Constraint(model.S_SI, rule=_InfDynamics)\n",
    "\n",
    "# Dynamics Constrain (3)\n",
    "def _SusDynamics(model, i):\n",
    "    if i != 1:\n",
    "        return model.S[i] == model.S[i-1] - model.I[i]\n",
    "    return Constraint.Skip\n",
    "model.SusDynamics = Constraint(model.S_SI, rule=_SusDynamics)\n",
    "\n",
    "# Should Match Reality (4)\n",
    "def _Data(model, i):\n",
    "    return model.P_REP_CASES[i] == model.I[i] + model.eps_I[i]\n",
    "model.Data = Constraint(model.S_SI, rule=_Data)\n",
    "\n",
    "\n",
    "# Callback To print Beta and Alpha\n",
    "def pyomo_postprocess(options=None, instance=None, results=None):\n",
    "\n",
    "    print('Optimal beta Value: {}'.format(instance.beta.value))\n",
    "    print('Optimal alpha Value: {}'.format(instance.alpha.value))"
   ]
  },
  {
   "cell_type": "code",
   "execution_count": 51,
   "metadata": {
    "ExecuteTime": {
     "end_time": "2021-02-03T23:27:48.289212Z",
     "start_time": "2021-02-03T23:27:48.280750Z"
    }
   },
   "outputs": [],
   "source": [
    "file_body = \"\"\"\n",
    "# disease_estimation.dat\n",
    "\n",
    "set S_SI := 1 2 3 4 5 6 7 8 9 10 11 12 13 14\n",
    "15 16 17 18 19 20 21 22 23 24 25 26 ;\n",
    "param P_POP := 1000.000000;\n",
    "param P_REP_CASES default 0.0 :=\n",
    "1 1.000000\n",
    "2 2.000000\n",
    "3 5.000000\n",
    "4 11.000000\n",
    "5 19.000000\n",
    "6 38.000000\n",
    "7 75.000000\n",
    "8 120.000000\n",
    "9 136.000000\n",
    "10 108.000000\n",
    "11 83.000000\n",
    "12 66.000000\n",
    "13 40.000000\n",
    "14 28.000000\n",
    "15 20.000000\n",
    "16 13.000000\n",
    "17 6.000000\n",
    "18 3.000000\n",
    "19 0.000000\n",
    "20 2.000000\n",
    ";\n",
    "\"\"\"\n",
    "\n",
    "with open(\"disease_estimation.dat\", \"w\") as file:\n",
    "    file.write(\n",
    "        file_body)"
   ]
  },
  {
   "cell_type": "code",
   "execution_count": 52,
   "metadata": {
    "ExecuteTime": {
     "end_time": "2021-02-03T23:27:50.803701Z",
     "start_time": "2021-02-03T23:27:50.374077Z"
    }
   },
   "outputs": [
    {
     "data": {
      "text/plain": [
       "{'Problem': [{'Lower bound': -inf, 'Upper bound': inf, 'Number of objectives': 1, 'Number of constraints': 76, 'Number of variables': 80, 'Sense': 'unknown'}], 'Solver': [{'Status': 'ok', 'Message': 'Ipopt 3.12.13\\\\x3a Optimal Solution Found', 'Termination condition': 'optimal', 'Id': 0, 'Error rc': 0, 'Time': 0.39563488960266113}], 'Solution': [OrderedDict([('number of solutions', 0), ('number of solutions displayed', 0)])]}"
      ]
     },
     "execution_count": 52,
     "metadata": {},
     "output_type": "execute_result"
    }
   ],
   "source": [
    "instance = model.create_instance(\"disease_estimation.dat\")\n",
    "solver = SolverFactory('ipopt')\n",
    "solver.solve(instance)"
   ]
  },
  {
   "cell_type": "code",
   "execution_count": 53,
   "metadata": {
    "ExecuteTime": {
     "end_time": "2021-02-03T23:27:51.312692Z",
     "start_time": "2021-02-03T23:27:51.290274Z"
    },
    "scrolled": false
   },
   "outputs": [
    {
     "name": "stdout",
     "output_type": "stream",
     "text": [
      "Model Disease\n",
      "\n",
      "  Variables:\n",
      "    I : Size=26, Index=S_SI\n",
      "        Key : Lower : Value                 : Upper  : Fixed : Stale : Domain\n",
      "          1 :     0 : 0.0030357147646931275 : 1000.0 : False : False :  Reals\n",
      "          2 :     0 :    0.0785907233540594 : 1000.0 : False : False :  Reals\n",
      "          3 :     0 :    0.8489849130746153 : 1000.0 : False : False :  Reals\n",
      "          4 :     0 :     4.835753407462108 : 1000.0 : False : False :  Reals\n",
      "          5 :     0 :    17.178452416204117 : 1000.0 : False : False :  Reals\n",
      "          6 :     0 :     42.66486491651755 : 1000.0 : False : False :  Reals\n",
      "          7 :     0 :     79.36878208260845 : 1000.0 : False : False :  Reals\n",
      "          8 :     0 :    114.35931856582744 : 1000.0 : False : False :  Reals\n",
      "          9 :     0 :    129.39947501316402 : 1000.0 : False : False :  Reals\n",
      "         10 :     0 :    116.89307374131431 : 1000.0 : False : False :  Reals\n",
      "         11 :     0 :     87.76594205419636 : 1000.0 : False : False :  Reals\n",
      "         12 :     0 :    58.534625508012674 : 1000.0 : False : False :  Reals\n",
      "         13 :     0 :    37.260002378104566 : 1000.0 : False : False :  Reals\n",
      "         14 :     0 :    23.910625613110756 : 1000.0 : False : False :  Reals\n",
      "         15 :     0 :    15.955788831375125 : 1000.0 : False : False :  Reals\n",
      "         16 :     0 :    11.209313843614323 : 1000.0 : False : False :  Reals\n",
      "         17 :     0 :     8.299954698239292 : 1000.0 : False : False :  Reals\n",
      "         18 :     0 :     6.449406175786945 : 1000.0 : False : False :  Reals\n",
      "         19 :     0 :    5.2252163551288895 : 1000.0 : False : False :  Reals\n",
      "         20 :     0 :     4.384085733877366 : 1000.0 : False : False :  Reals\n",
      "         21 :     0 :     3.785406289263006 : 1000.0 : False : False :  Reals\n",
      "         22 :     0 :     3.345274922447964 : 1000.0 : False : False :  Reals\n",
      "         23 :     0 :     3.011967243097208 : 1000.0 : False : False :  Reals\n",
      "         24 :     0 :     2.752594889138656 : 1000.0 : False : False :  Reals\n",
      "         25 :     0 :    2.5456468666896637 : 1000.0 : False : False :  Reals\n",
      "         26 :     0 :    2.3766937800062675 : 1000.0 : False : False :  Reals\n",
      "    S : Size=26, Index=S_SI\n",
      "        Key : Lower : Value              : Upper  : Fixed : Stale : Domain\n",
      "          1 :     0 :             1000.0 : 1000.0 : False : False :  Reals\n",
      "          2 :     0 :  999.9214192685525 : 1000.0 : False : False :  Reals\n",
      "          3 :     0 :   999.072434355478 : 1000.0 : False : False :  Reals\n",
      "          4 :     0 :  994.2366809480159 : 1000.0 : False : False :  Reals\n",
      "          5 :     0 :  977.0582285318119 : 1000.0 : False : False :  Reals\n",
      "          6 :     0 :  934.3933636152943 : 1000.0 : False : False :  Reals\n",
      "          7 :     0 :  855.0245815326859 : 1000.0 : False : False :  Reals\n",
      "          8 :     0 :  740.6652629668586 : 1000.0 : False : False :  Reals\n",
      "          9 :     0 :  611.2657879536946 : 1000.0 : False : False :  Reals\n",
      "         10 :     0 : 494.37271421238023 : 1000.0 : False : False :  Reals\n",
      "         11 :     0 :  406.6067721581839 : 1000.0 : False : False :  Reals\n",
      "         12 :     0 :  348.0721466501712 : 1000.0 : False : False :  Reals\n",
      "         13 :     0 : 310.81214427206663 : 1000.0 : False : False :  Reals\n",
      "         14 :     0 : 286.90151865895587 : 1000.0 : False : False :  Reals\n",
      "         15 :     0 : 270.94572982758075 : 1000.0 : False : False :  Reals\n",
      "         16 :     0 :  259.7364159839664 : 1000.0 : False : False :  Reals\n",
      "         17 :     0 : 251.43646128572712 : 1000.0 : False : False :  Reals\n",
      "         18 :     0 : 244.98705510994017 : 1000.0 : False : False :  Reals\n",
      "         19 :     0 :  239.7618387548113 : 1000.0 : False : False :  Reals\n",
      "         20 :     0 : 235.37775302093394 : 1000.0 : False : False :  Reals\n",
      "         21 :     0 : 231.59234673167092 : 1000.0 : False : False :  Reals\n",
      "         22 :     0 : 228.24707180922297 : 1000.0 : False : False :  Reals\n",
      "         23 :     0 : 225.23510456612576 : 1000.0 : False : False :  Reals\n",
      "         24 :     0 :  222.4825096769871 : 1000.0 : False : False :  Reals\n",
      "         25 :     0 : 219.93686281029744 : 1000.0 : False : False :  Reals\n",
      "         26 :     0 : 217.56016903029118 : 1000.0 : False : False :  Reals\n",
      "    beta : Size=1, Index=None\n",
      "        Key  : Lower : Value             : Upper : Fixed : Stale : Domain\n",
      "        None :  0.05 : 5.455950618916311 :    70 : False : False :  Reals\n",
      "    alpha : Size=1, Index=None\n",
      "        Key  : Lower : Value              : Upper : Fixed : Stale : Domain\n",
      "        None :   0.5 : 0.7314098570421634 :   4.5 : False : False :  Reals\n",
      "    eps_I : Size=26, Index=S_SI\n",
      "        Key : Lower : Value               : Upper : Fixed : Stale : Domain\n",
      "          1 :  None :  0.9969642852353069 :  None : False : False :  Reals\n",
      "          2 :  None :  1.9214092766459407 :  None : False : False :  Reals\n",
      "          3 :  None :   4.151015086925384 :  None : False : False :  Reals\n",
      "          4 :  None :   6.164246592537893 :  None : False : False :  Reals\n",
      "          5 :  None :  1.8215475837958837 :  None : False : False :  Reals\n",
      "          6 :  None :  -4.664864916517553 :  None : False : False :  Reals\n",
      "          7 :  None :  -4.368782082608446 :  None : False : False :  Reals\n",
      "          8 :  None :   5.640681434172559 :  None : False : False :  Reals\n",
      "          9 :  None :   6.600524986835997 :  None : False : False :  Reals\n",
      "         10 :  None :  -8.893073741314307 :  None : False : False :  Reals\n",
      "         11 :  None : -4.7659420541963495 :  None : False : False :  Reals\n",
      "         12 :  None :   7.465374491987322 :  None : False : False :  Reals\n",
      "         13 :  None :   2.739997621895432 :  None : False : False :  Reals\n",
      "         14 :  None :   4.089374386889242 :  None : False : False :  Reals\n",
      "         15 :  None :   4.044211168624876 :  None : False : False :  Reals\n",
      "         16 :  None :  1.7906861563856753 :  None : False : False :  Reals\n",
      "         17 :  None : -2.2999546982392918 :  None : False : False :  Reals\n",
      "         18 :  None :  -3.449406175786945 :  None : False : False :  Reals\n",
      "         19 :  None : -5.2252163551288895 :  None : False : False :  Reals\n",
      "         20 :  None : -2.3840857338773658 :  None : False : False :  Reals\n",
      "         21 :  None :  -3.785406289263006 :  None : False : False :  Reals\n",
      "         22 :  None :  -3.345274922447964 :  None : False : False :  Reals\n",
      "         23 :  None :  -3.011967243097208 :  None : False : False :  Reals\n",
      "         24 :  None :  -2.752594889138656 :  None : False : False :  Reals\n",
      "         25 :  None : -2.5456468666896637 :  None : False : False :  Reals\n",
      "         26 :  None : -2.3766937800062675 :  None : False : False :  Reals\n",
      "\n",
      "  Objectives:\n",
      "    objective : Size=1, Index=None, Active=True\n",
      "        Key  : Active : Value\n",
      "        None :   True : 485.26246628400963\n",
      "\n",
      "  Constraints:\n",
      "    InfDynamics : Size=25\n",
      "        Key : Lower : Body                   : Upper\n",
      "          2 :   0.0 :  7.852726247037367e-10 :   0.0\n",
      "          3 :   0.0 : 4.9960036108132044e-15 :   0.0\n",
      "          4 :   0.0 :  8.881784197001252e-15 :   0.0\n",
      "          5 :   0.0 :  7.105427357601002e-15 :   0.0\n",
      "          6 :   0.0 :  7.105427357601002e-15 :   0.0\n",
      "          7 :   0.0 :  5.684341886080802e-14 :   0.0\n",
      "          8 :   0.0 : 1.4210854715202004e-14 :   0.0\n",
      "          9 :   0.0 :  8.526512829121202e-14 :   0.0\n",
      "         10 :   0.0 :  4.263256414560601e-14 :   0.0\n",
      "         11 :   0.0 :  5.684341886080802e-14 :   0.0\n",
      "         12 :   0.0 : 2.1316282072803006e-14 :   0.0\n",
      "         13 :   0.0 : 1.4210854715202004e-14 :   0.0\n",
      "         14 :   0.0 : 1.0658141036401503e-14 :   0.0\n",
      "         15 :   0.0 :  3.552713678800501e-15 :   0.0\n",
      "         16 :   0.0 :  3.552713678800501e-15 :   0.0\n",
      "         17 :   0.0 : 1.7763568394002505e-15 :   0.0\n",
      "         18 :   0.0 :                    0.0 :   0.0\n",
      "         19 :   0.0 : 1.7763568394002505e-15 :   0.0\n",
      "         20 :   0.0 :  8.881784197001252e-16 :   0.0\n",
      "         21 :   0.0 :  4.440892098500626e-16 :   0.0\n",
      "         22 :   0.0 :                    0.0 :   0.0\n",
      "         23 :   0.0 :  4.440892098500626e-16 :   0.0\n",
      "         24 :   0.0 :                    0.0 :   0.0\n",
      "         25 :   0.0 :  4.440892098500626e-16 :   0.0\n",
      "         26 :   0.0 :                    0.0 :   0.0\n",
      "    SusDynamics : Size=25\n",
      "        Key : Lower : Body                   : Upper\n",
      "          2 :   0.0 :  9.991906608775025e-06 :   0.0\n",
      "          3 :   0.0 :                    0.0 :   0.0\n",
      "          4 :   0.0 :                    0.0 :   0.0\n",
      "          5 :   0.0 : 1.1368683772161603e-13 :   0.0\n",
      "          6 :   0.0 :                    0.0 :   0.0\n",
      "          7 :   0.0 :                    0.0 :   0.0\n",
      "          8 :   0.0 :                    0.0 :   0.0\n",
      "          9 :   0.0 :                    0.0 :   0.0\n",
      "         10 :   0.0 : -5.684341886080802e-14 :   0.0\n",
      "         11 :   0.0 :  5.684341886080802e-14 :   0.0\n",
      "         12 :   0.0 : -5.684341886080802e-14 :   0.0\n",
      "         13 :   0.0 :                    0.0 :   0.0\n",
      "         14 :   0.0 :                    0.0 :   0.0\n",
      "         15 :   0.0 :                    0.0 :   0.0\n",
      "         16 :   0.0 :                    0.0 :   0.0\n",
      "         17 :   0.0 :                    0.0 :   0.0\n",
      "         18 :   0.0 :                    0.0 :   0.0\n",
      "         19 :   0.0 :                    0.0 :   0.0\n",
      "         20 :   0.0 :                    0.0 :   0.0\n",
      "         21 :   0.0 : -2.842170943040401e-14 :   0.0\n",
      "         22 :   0.0 :  2.842170943040401e-14 :   0.0\n",
      "         23 :   0.0 :                    0.0 :   0.0\n",
      "         24 :   0.0 :                    0.0 :   0.0\n",
      "         25 :   0.0 :                    0.0 :   0.0\n",
      "         26 :   0.0 :                    0.0 :   0.0\n",
      "    Data : Size=26\n",
      "        Key : Lower : Body               : Upper\n",
      "          1 :   1.0 :                1.0 :   1.0\n",
      "          2 :   2.0 :                2.0 :   2.0\n",
      "          3 :   5.0 :                5.0 :   5.0\n",
      "          4 :  11.0 :               11.0 :  11.0\n",
      "          5 :  19.0 :               19.0 :  19.0\n",
      "          6 :  38.0 :               38.0 :  38.0\n",
      "          7 :  75.0 :               75.0 :  75.0\n",
      "          8 : 120.0 :              120.0 : 120.0\n",
      "          9 : 136.0 : 136.00000000000003 : 136.0\n",
      "         10 : 108.0 :              108.0 : 108.0\n",
      "         11 :  83.0 :  83.00000000000001 :  83.0\n",
      "         12 :  66.0 :               66.0 :  66.0\n",
      "         13 :  40.0 :               40.0 :  40.0\n",
      "         14 :  28.0 :               28.0 :  28.0\n",
      "         15 :  20.0 :               20.0 :  20.0\n",
      "         16 :  13.0 : 12.999999999999998 :  13.0\n",
      "         17 :   6.0 :                6.0 :   6.0\n",
      "         18 :   3.0 : 2.9999999999999996 :   3.0\n",
      "         19 :   0.0 :                0.0 :   0.0\n",
      "         20 :   2.0 :                2.0 :   2.0\n",
      "         21 :   0.0 :                0.0 :   0.0\n",
      "         22 :   0.0 :                0.0 :   0.0\n",
      "         23 :   0.0 :                0.0 :   0.0\n",
      "         24 :   0.0 :                0.0 :   0.0\n",
      "         25 :   0.0 :                0.0 :   0.0\n",
      "         26 :   0.0 :                0.0 :   0.0\n"
     ]
    }
   ],
   "source": [
    "instance.display()"
   ]
  },
  {
   "cell_type": "code",
   "execution_count": 54,
   "metadata": {
    "ExecuteTime": {
     "end_time": "2021-02-03T23:28:00.584158Z",
     "start_time": "2021-02-03T23:28:00.577921Z"
    }
   },
   "outputs": [
    {
     "name": "stdout",
     "output_type": "stream",
     "text": [
      "Optimal beta Value: 5.455950618916311\n",
      "Optimal alpha Value: 0.7314098570421634\n"
     ]
    }
   ],
   "source": [
    "pyomo_postprocess(options=None, instance=instance, results=None)"
   ]
  },
  {
   "cell_type": "code",
   "execution_count": 55,
   "metadata": {
    "ExecuteTime": {
     "end_time": "2021-02-03T23:28:08.346187Z",
     "start_time": "2021-02-03T23:28:08.341793Z"
    }
   },
   "outputs": [],
   "source": [
    "S_array = [val.value for val in instance.S.values()]\n",
    "I_array = [val.value for val in instance.I.values()]\n",
    "eps_array = [val.value for val in instance.eps_I.values()]\n",
    "ts_array = [val for val in instance.S_SI.values()]\n",
    "Reported_array = [val for val in instance.P_REP_CASES.values()]"
   ]
  },
  {
   "cell_type": "code",
   "execution_count": 56,
   "metadata": {
    "ExecuteTime": {
     "end_time": "2021-02-03T23:28:09.520345Z",
     "start_time": "2021-02-03T23:28:09.513834Z"
    }
   },
   "outputs": [],
   "source": [
    "df = pd.DataFrame({\"S\": S_array, \"ts\": ts_array, \"I\": I_array, \"eps\": eps_array, \"Reported\": Reported_array})"
   ]
  },
  {
   "cell_type": "code",
   "execution_count": 57,
   "metadata": {
    "ExecuteTime": {
     "end_time": "2021-02-03T23:28:10.416882Z",
     "start_time": "2021-02-03T23:28:10.005198Z"
    }
   },
   "outputs": [
    {
     "data": {
      "image/png": "[encoded data removed]",
      "text/plain": [
       "<Figure size 720x360 with 1 Axes>"
      ]
     },
     "metadata": {
      "needs_background": "light"
     },
     "output_type": "display_data"
    }
   ],
   "source": [
    "fig, ax = plt.subplots(figsize=(10,5))\n",
    "#sns.lineplot(data=df, x=\"ts\", y=\"S\", ax=ax, label=\"S\")\n",
    "sns.lineplot(data=df, x=\"ts\", y=\"I\", ax=ax, label=\"Infected\")\n",
    "sns.lineplot(data=df, x=\"ts\", y=\"Reported\", ax=ax, label=\"Reported\")\n",
    "ax.legend()\n",
    "plt.show()"
   ]
  },
  {
   "cell_type": "code",
   "execution_count": 58,
   "metadata": {
    "ExecuteTime": {
     "end_time": "2021-02-03T23:28:26.212269Z",
     "start_time": "2021-02-03T23:28:25.955714Z"
    }
   },
   "outputs": [
    {
     "data": {
      "image/png": "[encoded data removed]",
      "text/plain": [
       "<Figure size 720x360 with 1 Axes>"
      ]
     },
     "metadata": {
      "needs_background": "light"
     },
     "output_type": "display_data"
    }
   ],
   "source": [
    "fig, ax = plt.subplots(figsize=(10,5))\n",
    "sns.lineplot(data=df, x=\"ts\", y=\"eps\", label=\"Error\", ax=ax)\n",
    "plt.show()"
   ]
  },
  {
   "cell_type": "code",
   "execution_count": 59,
   "metadata": {
    "ExecuteTime": {
     "end_time": "2021-02-03T23:28:31.216060Z",
     "start_time": "2021-02-03T23:28:30.959283Z"
    }
   },
   "outputs": [
    {
     "data": {
      "image/png": "[encoded data removed]",
      "text/plain": [
       "<Figure size 720x360 with 1 Axes>"
      ]
     },
     "metadata": {
      "needs_background": "light"
     },
     "output_type": "display_data"
    }
   ],
   "source": [
    "fig, ax = plt.subplots(figsize=(10,5))\n",
    "sns.lineplot(data=df, x=\"ts\", y=\"S\", label=\"Susceptible\", ax=ax)\n",
    "plt.show()"
   ]
  },
  {
   "cell_type": "markdown",
   "metadata": {},
   "source": [
    "**Reference**\n",
    "- Hart, William E., Carl D. Laird, Jean-Paul Watson, David L. Woodruff, Gabriel A. Hackebeil, Bethany L. Nicholson, and John D. Siirola. Pyomo – Optimization Modeling in Python. Second Edition.  Vol. 67. Springer, 2017."
   ]
  }
 ],
 "metadata": {
  "kernelspec": {
   "display_name": "Python [conda env:pyomo]",
   "language": "python",
   "name": "conda-env-pyomo-py"
  },
  "language_info": {
   "codemirror_mode": {
    "name": "ipython",
    "version": 3
   },
   "file_extension": ".py",
   "mimetype": "text/x-python",
   "name": "python",
   "nbconvert_exporter": "python",
   "pygments_lexer": "ipython3",
   "version": "3.7.9"
  },
  "toc": {
   "base_numbering": 1,
   "nav_menu": {},
   "number_sections": true,
   "sideBar": true,
   "skip_h1_title": true,
   "title_cell": "Table of Contents",
   "title_sidebar": "Contents",
   "toc_cell": true,
   "toc_position": {},
   "toc_section_display": true,
   "toc_window_display": false
  }
 },
 "nbformat": 4,
 "nbformat_minor": 4
}
